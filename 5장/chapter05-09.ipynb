{
 "cells": [
  {
   "cell_type": "markdown",
   "id": "5dae8406",
   "metadata": {},
   "source": [
    "# 알고리즘 5.9 예제\n",
    "\n",
    "### 1) 문제 정의\n",
    "이 문제에서는 2차원 평면상에 주어진 점들 중 가장 가까운 두 점의 쌍을 찾는 것이 목적입니다. 이 문제는 컴퓨터 그래픽스, 물리 시뮬레이션, 데이터 클러스터링 등 다양한 분야에서 응용됩니다.\n",
    "\n",
    "### 2) 알고리즘 설명\n",
    "이 알고리즘은 분할 정복 방법을 사용하여 최근접 점 쌍을 찾습니다. 주어진 점들을 x좌표 기준으로 정렬한 후, 배열을 두 개의 동등한 부분으로 나누고, 각 부분에서 재귀적으로 최근접 쌍을 찾습니다. 그리고 경계에 걸쳐 있는 점들 사이에서도 최근접 쌍을 찾아 최소 거리를 결정합니다.\n",
    "\n",
    "### 3) 손으로 푼 예제\n",
    "(자료 별첨)\n",
    "\n",
    "### 4) 코드 개요\n",
    "- **입력 변수**:\n",
    "  - `P`: 점들의 리스트, 각 점은 (x, y) 튜플 형태입니다.\n",
    "  - `n`: 리스트 `P`의 길이.\n",
    "- **출력**: 리스트 `P`에 있는 점들 중 가장 가까운 두 점 사이의 거리.\n",
    "- **함수 설명**: `closest_pair_dist` 함수는 점들의 리스트와 리스트의 길이를 입력으로 받아 최근접 쌍의 거리를 반환합니다.\n",
    "\n",
    "### 5) 코드 (Python)\n",
    "\n",
    "아래의 코드에서 closest_pair_dist 함수를 테스트하기 위해서, 우선 closest_pair와 strip_closest 함수의 정의가 필요합니다. 여기서 closest_pair 함수는 주어진 점 집합에서 모든 가능한 점 쌍의 거리를 계산하여 가장 가까운 거리를 찾는 함수이며, strip_closest 함수는 특정 폭(d) 내에서 최소 거리를 찾습니다. 이 함수들은 작은 점 집합 또는 띠 영역 내에서 최소 거리를 계산하는 데 사용됩니다.\n"
   ]
  },
  {
   "cell_type": "code",
   "execution_count": 9,
   "id": "06152662",
   "metadata": {},
   "outputs": [],
   "source": [
    "# 최근접 쌍의 거리\n",
    "def closest_pair(P):\n",
    "    min_dist = float('inf')\n",
    "    n = len(P)\n",
    "    for i in range(n):\n",
    "        for j in range(i + 1, n):\n",
    "            min_dist = min(min_dist, distance(P[i], P[j]))\n",
    "    return min_dist\n",
    "\n",
    "def strip_closest(P, d):\n",
    "    min_dist = d\n",
    "    P.sort(key=lambda point: point[1])  # y축을 따라 정렬\n",
    "    n = len(P)\n",
    "    for i in range(n):\n",
    "        for j in range(i + 1, n):\n",
    "            if P[j][1] - P[i][1] >= min_dist:\n",
    "                break\n",
    "            min_dist = min(min_dist, distance(P[i], P[j]))\n",
    "    return min_dist\n",
    "\n",
    "def distance(p1, p2):\n",
    "    return ((p1[0] - p2[0]) ** 2 + (p1[1] - p2[1]) ** 2) ** 0.5\n"
   ]
  },
  {
   "cell_type": "markdown",
   "id": "ec574036",
   "metadata": {},
   "source": [
    "### 6) 테스트 코드\n",
    "\n",
    "아래 코드는 closest_pair_dist 함수를 테스트하기 위해 무작위 점 집합을 생성하고 함수를 호출합니다. 이 예제에서는 점들을 x좌표에 따라 정렬한 다음 함수를 실행합니다."
   ]
  },
  {
   "cell_type": "code",
   "execution_count": 10,
   "id": "4a6b2878",
   "metadata": {},
   "outputs": [
    {
     "name": "stdout",
     "output_type": "stream",
     "text": [
      "The closest pair distance is: 6.08\n"
     ]
    }
   ],
   "source": [
    "import random\n",
    "\n",
    "# 무작위 점 생성 함수\n",
    "def generate_random_points(num_points):\n",
    "    return [(random.randint(1, 100), random.randint(1, 100)) for _ in range(num_points)]\n",
    "\n",
    "# 테스트 코드\n",
    "num_points = 10  # 테스트할 점의 수\n",
    "points = generate_random_points(num_points)\n",
    "points.sort(key=lambda x: x[0])  # x좌표에 따라 점들을 정렬\n",
    "\n",
    "closest_distance = closest_pair_dist(points, len(points))\n",
    "print(f\"The closest pair distance is: {closest_distance:.2f}\")\n"
   ]
  },
  {
   "cell_type": "markdown",
   "id": "49ea3e86",
   "metadata": {},
   "source": [
    "\n",
    "### 7) 수행 결과\n",
    "generate_random_points: 지정된 수의 점을 무작위로 생성하는 함수입니다. 각 점은 (x, y) 형식의 튜플로, x와 y 값은 1에서 100 사이의 정수입니다.\n",
    "\n",
    "테스트 실행: 생성된 점들을 x좌표로 정렬한 후 closest_pair_dist 함수를 호출하여 최근접 점 쌍의 거리를 계산하고 출력합니다.\n",
    "\n",
    "### 8) 복잡도 분석\n",
    "이 알고리즘의 시간 복잡도는 평균 O(n log n)입니다. 최악의 경우, 시간 복잡도는 O(n^2)가 될 수 있습니다.\n",
    "\n",
    "### 9) 협력 내용(조별, 팀별)\n",
    "이 프로젝\n",
    "\n",
    "트는 팀원들과 협력하여 수행되었습니다. 각자 다양한 데이터 세트를 테스트하고 성능을 비교 분석하여 알고리즘의 효율성을 검증했습니다. 모든 팀원은 코드 개발 및 최적화에 기여하였습니다."
   ]
  },
  {
   "cell_type": "code",
   "execution_count": null,
   "id": "78dd50c5",
   "metadata": {},
   "outputs": [],
   "source": []
  }
 ],
 "metadata": {
  "kernelspec": {
   "display_name": "Python 3 (ipykernel)",
   "language": "python",
   "name": "python3"
  },
  "language_info": {
   "codemirror_mode": {
    "name": "ipython",
    "version": 3
   },
   "file_extension": ".py",
   "mimetype": "text/x-python",
   "name": "python",
   "nbconvert_exporter": "python",
   "pygments_lexer": "ipython3",
   "version": "3.9.13"
  }
 },
 "nbformat": 4,
 "nbformat_minor": 5
}
