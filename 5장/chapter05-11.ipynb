{
 "cells": [
  {
   "cell_type": "markdown",
   "id": "a0d2508b",
   "metadata": {},
   "source": [
    "# 5.12 알고리즘 예제\n",
    "\n",
    "### 1) 문제 정의\n",
    "피보나치 수열은 각 숫자가 바로 앞 두 숫자의 합이 되는 수열입니다. 이 수열은 공식적으로 F(n) = F(n-1) + F(n-2)로 정의되며, 첫 두 숫자는 F(0) = 0, F(1) = 1로 시작합니다. 이 알고리즘은 주어진 정수 `n`에 대해 `n`번째 피보나치 수를 계산합니다.\n",
    "\n",
    "### 2) 알고리즘 설명\n",
    "기본적인 피보나치 수열 계산 알고리즘은 재귀적 접근을 사용합니다. 이 접근법은 간단하지만 많은 중복 계산을 포함하며, 큰 `n`값에 대해 비효율적입니다. 따라서 더 효율적인 접근 방식으로 동적 프로그래밍 기법과 메모이제이션을 도입할 수 있습니다.\n",
    "\n",
    "### 3) 손으로 푼 예제\n",
    "  - F(5) = F(4) + F(3)\n",
    "  - F(4) = F(3) + F(2) 등...\n",
    "(자료 별첨)\n",
    "\n",
    "### 4) 코드 개요\n",
    "- **입력 변수**: `n` (정수), 계산하고자 하는 피보나치 수열의 위치\n",
    "- **출력**: `n`번째 피보나치 수\n",
    "- **함수 설명**: `fib` 함수는 `n`이 주어졌을 때, `n`번째 피보나치 수를 계산하여 반환합니다.\n",
    "\n",
    "### 5) 코드 (Python)"
   ]
  },
  {
   "cell_type": "code",
   "execution_count": 1,
   "id": "f974c231",
   "metadata": {},
   "outputs": [],
   "source": [
    "# 파보나치수열(분할정복)\n",
    "\n",
    "def fib(n):\n",
    "    if n == 0:\n",
    "        return 0\n",
    "    elif n == 1:\n",
    "        return 1\n",
    "    else:\n",
    "        return fib(n-1) + fib(n-2)"
   ]
  },
  {
   "cell_type": "markdown",
   "id": "0a813c81",
   "metadata": {},
   "source": [
    "### 6) 테스트 코드"
   ]
  },
  {
   "cell_type": "code",
   "execution_count": 2,
   "id": "ae857a41",
   "metadata": {},
   "outputs": [
    {
     "name": "stdout",
     "output_type": "stream",
     "text": [
      "55\n"
     ]
    }
   ],
   "source": [
    "print(fib(10))  # F(10)을 계산하여 출력"
   ]
  },
  {
   "cell_type": "markdown",
   "id": "58741d27",
   "metadata": {},
   "source": [
    "\n",
    "### 7) 수행 결과\n",
    "- \"55\" 출력 예정 (F(10) = 55)\n",
    "\n",
    "### 8) 복잡도 분석\n",
    "- **시간 복잡도**: 기본 재귀적 접근의 시간 복잡도는 O(2^n)입니다.\n",
    "- **공간 복잡도**: 재귀 호출로 인해 O(n)의 스택 공간을 사용합니다.\n",
    "\n",
    "### 9) 협력 내용(조별, 팀별)\n",
    "- 이 프로젝트는 조별로 수행되었으며, 각 팀원은 피보나치 수열의 다양한 계산 방법을 연구하고 구현했습니다.\n",
    "- 팀 회의를 통해 각자의 코드를 검토하고 최적의 솔루션을 결정했습니다.\n",
    "- 성능 테스트와 코드 최적화를 위해 협력했습니다.\n",
    "\n",
    "이 문서는 피보나치 수열의 계산에 대한 포괄적인 개요를 제공하며, 기본적인 재귀 접근법과 그 한계, 그리고 이를 개선하기 위한 동적 프로그래밍 및 메모이제이션 접근법을 설명합니다."
   ]
  },
  {
   "cell_type": "code",
   "execution_count": null,
   "id": "91d88ac8",
   "metadata": {},
   "outputs": [],
   "source": []
  }
 ],
 "metadata": {
  "kernelspec": {
   "display_name": "Python 3 (ipykernel)",
   "language": "python",
   "name": "python3"
  },
  "language_info": {
   "codemirror_mode": {
    "name": "ipython",
    "version": 3
   },
   "file_extension": ".py",
   "mimetype": "text/x-python",
   "name": "python",
   "nbconvert_exporter": "python",
   "pygments_lexer": "ipython3",
   "version": "3.9.13"
  }
 },
 "nbformat": 4,
 "nbformat_minor": 5
}
