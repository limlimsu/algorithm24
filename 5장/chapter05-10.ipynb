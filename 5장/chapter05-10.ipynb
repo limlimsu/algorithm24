{
 "cells": [
  {
   "cell_type": "markdown",
   "id": "509df668-9e05-428d-aeb1-7ba77beea109",
   "metadata": {},
   "source": [
    "# 알고리즘 5.10 행렬 곱셈\n",
    "\n",
    "### 1) 문제 정의\n",
    "두 행렬 \\( A \\)와 \\( B \\)가 주어졌을 때, 이 두 행렬의 곱셈 결과를 계산하는 것이 목표입니다. 행렬 곱셈은 다양한 과학, 공학, 비즈니스, 그리고 데이터 분석 분야에서 중요한 계산 도구로 사용됩니다.\n",
    "\n",
    "### 2) 알고리즘 설명\n",
    "행렬 곱셈은 각 행렬의 행과 열을 순회하면서 각 요소를 곱하고 결과를 합하여 새로운 행렬 \\( C \\)의 해당 위치에 저장하는 과정을 포함합니다. 행렬 \\( A \\)의 각 행은 행렬 \\( B \\)의 각 열과 곱해져 행렬 \\( C \\)를 형성합니다.\n",
    "\n",
    "### 3) 손으로 푼 예제\n",
    "- 행렬 \\( A \\) = [[1, 2], [3, 4]]\n",
    "- 행렬 \\( B \\) = [[2, 0], [1, 2]]\n",
    "\n",
    "(자료 별첨)\n",
    "\n",
    "### 4) 코드 개요\n",
    "- **입력 변수**: \n",
    "  - `A`: 첫 번째 행렬\n",
    "  - `B`: 두 번째 행렬\n",
    "  - `C`: 결과 행렬, 초기에는 0으로 채워진 상태\n",
    "- **출력**: 두 행렬 \\( A \\)와 \\( B \\)의 곱셈 결과가 저장된 행렬 \\( C \\)\n",
    "- **함수 설명**: `multiply` 함수는 주어진 두 행렬 \\( A \\)와 \\( B \\)를 입력 받아 곱셈을 수행하고 결과를 행렬 \\( C \\)에 저장합니다.\n",
    "\n",
    "### 5) 코드 (Python)\n",
    "```python\n",
    "def multiply(A, B, C):\n",
    "    for i in range(len(A)): # 외부 루프\n",
    "        for j in range(len(B[0])): # 중간 루프\n",
    "            C[i][j] = 0\n",
    "            for k in range(len(A[0])): # 내부 루프\n",
    "                C[i][j] += A[i][k] * B[k][j]\n",
    "```\n",
    "\n",
    "### 6) 테스트 코드 (Python)\n",
    "```python\n",
    "A = [[1, 2], [3, 4]]\n",
    "B = [[2, 0], [1, 2]]\n",
    "C = [[0, 0], [0, 0]]\n",
    "\n",
    "multiply(A, B, C)\n",
    "\n",
    "print(\"Resultant Matri\n",
    "x C:\")\n",
    "for ro![5.10 행렬 곱셈.PNG](attachment:27e43060-9526-407d-b036-196802015f26.PNG)력\n",
    "\n",
    "은:\n",
    "```\n",
    "Resultant Matrix C:\n",
    "[4, 4]\n",
    "[10, 8]\n",
    "```\n",
    "\n",
    "### 8) 복잡도 분석\n",
    "이 알고리즘의 시간 복잡도는 \\( O(n^3) \\)입니다, 여기서 \\( n \\)은 행렬의 차원입니다. 공간 복잡도는 \\( O(1) \\)로, 추가 공간을 필요로 하지 않습니다.\n",
    "\n",
    "### 9) 협력 내용(조별, 팀별)\n",
    "이 문서와 코드는 팀 프로젝트의 일환으로 개발되었습니다. 팀원들과 함께 다양한 행렬 크기에 대해 코드를 실행하고 성능을 분석하여 최적화 방법을 논의하였습니다. 각 팀원은 특정 부분의 코드 최적화를 담당하여 알고리즘의 효율성을 향상시키는 데를 형성합니다."
   ]
  },
  {
   "cell_type": "code",
   "execution_count": 11,
   "id": "aff12ad9-234c-4140-af43-6bddddb264d9",
   "metadata": {},
   "outputs": [],
   "source": [
    "# 행렬 곱셈(억지 기법)\n",
    "def multiply(A, B, C):\n",
    "    for i in range(len(A)): # 외부 루프\n",
    "        for j in range(len(A)): # 중간 루프\n",
    "            C[i][j] = 0\n",
    "            for k in range(len(A)): # 내부 루프\n",
    "                C[i][j] += A[i][k]*B[k][j] # 가장 안쪽 문장"
   ]
  }
 ],
 "metadata": {
  "kernelspec": {
   "display_name": "Python 3 (ipykernel)",
   "language": "python",
   "name": "python3"
  },
  "language_info": {
   "codemirror_mode": {
    "name": "ipython",
    "version": 3
   },
   "file_extension": ".py",
   "mimetype": "text/x-python",
   "name": "python",
   "nbconvert_exporter": "python",
   "pygments_lexer": "ipython3",
   "version": "3.9.13"
  }
 },
 "nbformat": 4,
 "nbformat_minor": 5
}
