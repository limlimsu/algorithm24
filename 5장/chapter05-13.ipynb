{
 "cells": [
  {
   "cell_type": "markdown",
   "id": "22515c04",
   "metadata": {},
   "source": [
    "# 5.13 알고리즘 예제\n",
    "\n",
    "### 1) 문제 정의\n",
    "피보나치 수열은 수학에서 매우 유명한 수열로, 각 숫자가 바로 앞 두 숫자의 합이 되는 특성을 가지고 있습니다. 문제는 주어진 정수 `n`에 대해 `n`번째 피보나치 수를 계산하는 것입니다.\n",
    "\n",
    "### 2) 알고리즘 설명\n",
    "이 반복적 접근 방식은 재귀적 방법의 비효율성을 해결합니다. 첫 두 피보나치 수는 0과 1이며, 이후의 수는 이전 두 수의 합으로 계산됩니다. 이 알고리즘은 두 개의 변수를 이용하여 연속된 피보나치 수를 저장하고 갱신하는 방식으로, 주어진 위치의 피보나치 수까지 순차적으로 계산합니다.\n",
    "\n",
    "### 3) 손으로 푼 예제\n",
    "(자료 별첨)\n",
    "\n",
    "### 4) 코드 개요\n",
    "- **입력 변수**: `n` - 계산하고자 하는 피보나치 수의 위치\n",
    "- **출력**: `n`번째 피보나치 수\n",
    "- **함수 설명**: `fib_iter` 함수는 주어진 정수 `n`에 대해 반복 구조를 사용하여 `n`번째 피보나치 수를 계산하고 반환합니다.\n",
    "\n",
    "### 5) 코드 (Python)"
   ]
  },
  {
   "cell_type": "code",
   "execution_count": 1,
   "id": "b46af18b",
   "metadata": {},
   "outputs": [],
   "source": [
    "# 파보나치 수열(반복 구조)\n",
    "def fib_iter(n):\n",
    "    if (n<2): return n\n",
    "    last = 0\n",
    "    current = 1\n",
    "    for i in range(2, n+1):\n",
    "        tmp = current\n",
    "        current += last\n",
    "        last = tmp\n",
    "    return current"
   ]
  },
  {
   "cell_type": "markdown",
   "id": "c0a0dbdc",
   "metadata": {},
   "source": [
    "### 6) 테스트 코드"
   ]
  },
  {
   "cell_type": "code",
   "execution_count": 2,
   "id": "155026cb",
   "metadata": {},
   "outputs": [
    {
     "name": "stdout",
     "output_type": "stream",
     "text": [
      "55\n"
     ]
    }
   ],
   "source": [
    "print(fib_iter(10))  # F(10)을 계산하여 출력\n"
   ]
  },
  {
   "cell_type": "markdown",
   "id": "525bdd6c",
   "metadata": {},
   "source": [
    "\n",
    "### 7) 수행 결과\n",
    "- \"55\" 출력 예정 (F(10) = 55)\n",
    "- 결과 캡처 이미지 삽입 예정\n",
    "\n",
    "### 8) 복잡도 분석\n",
    "- **시간 복잡도**: O(n) - `n` 번 반복문을 실행합니다.\n",
    "- **공간 복잡도**: O(1) - 추가 공간 사용 없이, 두 변수만을 이용하여 계산을 수행합니다.\n",
    "\n",
    "### 9) 협력 내용(조별, 팀별)\n",
    "- 이 프로젝트는 조별로 진행되었으며, 각 조원은 다양한 입력 값에 대해 코드를 테스트하고 최적화 방안을 제시했습니다.\n",
    "- 코드 리뷰 세션을 통해 다양한 구현 방식을 공유하고, 가장 효율적인 방법을 선택하는 데 협력했습니다."
   ]
  },
  {
   "cell_type": "code",
   "execution_count": null,
   "id": "81fa0e8c",
   "metadata": {},
   "outputs": [],
   "source": []
  }
 ],
 "metadata": {
  "kernelspec": {
   "display_name": "Python 3 (ipykernel)",
   "language": "python",
   "name": "python3"
  },
  "language_info": {
   "codemirror_mode": {
    "name": "ipython",
    "version": 3
   },
   "file_extension": ".py",
   "mimetype": "text/x-python",
   "name": "python",
   "nbconvert_exporter": "python",
   "pygments_lexer": "ipython3",
   "version": "3.9.13"
  }
 },
 "nbformat": 4,
 "nbformat_minor": 5
}
