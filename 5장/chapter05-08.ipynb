{
 "cells": [
  {
   "cell_type": "markdown",
   "id": "2d970aa5",
   "metadata": {},
   "source": [
    "# 5.8 알고리즘 예제\n",
    "\n",
    "### 1) 문제 정의\n",
    "이 문제에서는 2차원 평면상의 점들의 집합과 거리 `d`가 주어졌을 때, 특정 띠(strip) 영역 내에서 거리 `d`보다 작은 가장 가까운 두 점 사이의 거리를 찾는 것입니다. 이 작업은 컴퓨터 과학과 공학의 여러 분야에서 중요한 응용을 가지고 있습니다.\n",
    "\n",
    "### 2) 알고리즘 설명\n",
    "이 알고리즘은 분할 정복 기법을 사용하여 최근접 점 쌍 문제를 효율적으로 해결합니다. 주어진 점들을 y 좌표에 따라 정렬한 후, 각 점을 반복적으로 검사하여 주어진 거리 `d`보다 작은 가장 가까운 거리를 찾습니다.\n",
    "\n",
    "### 3) 손으로 푼 예제\n",
    "이 예제에서는 점들의 집합을 y 축에 따라 정렬하고, 주어진 거리 `d` 내에서 각 점 쌍의 거리를 계산합니다. 예를 들어, 점들이 `[(-2, 3), (1, 1), (3, -1)]`이고 `d`가 3인 경우를 손으로 계산하여 가장 가까운 점 쌍을 찾습니다.\n",
    "\n",
    "(자료 별첨)\n",
    "\n",
    "### 4) 코드 개요\n",
    "- **입력 변수**:\n",
    "  - `P`: 점들의 리스트, 각 점은 (x, y) 형태입니다.\n",
    "  - `d`: 비교 거리\n",
    "- **출력**: `d`보다 작은 최근접 거리\n",
    "- **함수 설명**: `strip_closest` 함수는 주어진 점들을 y 좌표에 따라 정렬하고, 최근접 거리를 계산하여 반환합니다.\n",
    "\n",
    "### 5) 코드 (Python)"
   ]
  },
  {
   "cell_type": "code",
   "execution_count": 1,
   "id": "62218e37",
   "metadata": {},
   "outputs": [],
   "source": [
    "# 띠(strip) 영역 내에서 d보다 작은 최근접 쌍의 거리 찾기\n",
    "def strip_closest(P, d):\n",
    "    n = len(P)  # 리스트 내의 점의 수\n",
    "    d_min = d  # 최소 거리를 d로 초기화\n",
    "\n",
    "    # 리스트 P를 y 좌표에 따라 정렬\n",
    "    P.sort(key=lambda point: point[1])\n",
    "    \n",
    "    # 모든 점들을 순회하면서 가장 가까운 거리를 찾음\n",
    "    for i in range(n):\n",
    "        j = i + 1\n",
    "        # y 좌표의 차이가 d_min 미만인 점들만 검사\n",
    "        while j < n and (P[j][1] - P[i][1]) < d_min:\n",
    "            dij = distance(P[i], P[j])\n",
    "            if dij < d_min:\n",
    "                d_min = dij\n",
    "            j += 1\n",
    "    return d_min\n",
    "\n",
    "# 거리를 계산하는 함수\n",
    "def distance(point1, point2):\n",
    "    return ((point1[0] - point2[0]) ** 2 + (point1[1] - point2[1]) ** 2) ** 0.5"
   ]
  },
  {
   "cell_type": "markdown",
   "id": "42c6cb3b",
   "metadata": {},
   "source": [
    "### 6) 테스트 코드"
   ]
  },
  {
   "cell_type": "code",
   "execution_count": 2,
   "id": "f35fd30a",
   "metadata": {
    "scrolled": true
   },
   "outputs": [
    {
     "name": "stdout",
     "output_type": "stream",
     "text": [
      "The smallest distance is: 1.4142135623730951\n"
     ]
    }
   ],
   "source": [
    "P = [(1, 3), (4, 4), (5, 5), (10, 10), (2, 2)]\n",
    "d = 3\n",
    "print(\"The smallest distance is:\", strip_closest(P, d))"
   ]
  },
  {
   "cell_type": "markdown",
   "id": "d951809e",
   "metadata": {},
   "source": [
    "### 7) 수행 결과\n",
    "예상 출력은 \"The smallest distance is: 1.41\" 등이 될 수 있습니다.\n",
    "\n",
    "### 8) 복잡도 분석\n",
    "이 알고리즘의 시간 복잡도는 `O(n log n)`입니다. 이는 주로 정렬 과정에서 발생하며, 검사 과정은 일반적으로 `O(n)`의 시간이 소요됩니다.\n",
    "\n",
    "### 9) 협력 내용(조별, 팀별)\n",
    "이 알고리즘의 구현과 테스트를 위해 팀원들과 협력하여 다양한 데이터 세트를 테스트하고 성능을 분석했습니다. 모든 팀원이 코드 개발에 참여하고, 코드 리"
   ]
  },
  {
   "cell_type": "code",
   "execution_count": null,
   "id": "8ef52dc3",
   "metadata": {},
   "outputs": [],
   "source": []
  }
 ],
 "metadata": {
  "kernelspec": {
   "display_name": "Python 3 (ipykernel)",
   "language": "python",
   "name": "python3"
  },
  "language_info": {
   "codemirror_mode": {
    "name": "ipython",
    "version": 3
   },
   "file_extension": ".py",
   "mimetype": "text/x-python",
   "name": "python",
   "nbconvert_exporter": "python",
   "pygments_lexer": "ipython3",
   "version": "3.11.7"
  }
 },
 "nbformat": 4,
 "nbformat_minor": 5
}
