{
 "cells": [
  {
   "cell_type": "markdown",
   "metadata": {},
   "source": [
    "## 알고리즘 4장 연습 문제 11번"
   ]
  },
  {
   "cell_type": "markdown",
   "metadata": {},
   "source": [
    "11. 항목의 개수가 100만 개인 리스트를 탐색하려고 한다. 최악의 입력을 고려하여 순차 탐색에 비해 이진 탐색이 얼마나 더 빠를지를 설명하라."
   ]
  },
  {
   "cell_type": "markdown",
   "metadata": {},
   "source": [
    "답: 100만 개인 리스트를 탐색할 때, 순차 탐색의 시간 복잡도는 O(n)으로 최악의 경우 100만번의 비교가 필요하고 이진 탐색의 시간 복잡도는 O()이므로 최악의 경우에도 약 20번의 비교만으로 원하는 항목을 찾을 수 있다. 따라서 이진 탐색은 순차 탐색에 비해 약 50,000배 더 빠르다. "
   ]
  }
 ],
 "metadata": {
  "language_info": {
   "name": "python"
  }
 },
 "nbformat": 4,
 "nbformat_minor": 2
}
