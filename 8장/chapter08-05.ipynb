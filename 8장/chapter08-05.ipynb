{
 "cells": [
  {
   "cell_type": "markdown",
   "metadata": {},
   "source": [
    "## 알고리즘 예제 8.5\n"
   ]
  },
  {
   "cell_type": "markdown",
   "metadata": {},
   "source": [
    "1. 문제정의: \n",
    "\n",
    "Prim의 최소비용 신장트리 알고리즘 "
   ]
  },
  {
   "cell_type": "markdown",
   "metadata": {},
   "source": [
    "2. 알코리즘 성명:\n",
    "\n",
    "- `getMinVertex :`\n",
    "    - dist 배열과 정점의 선택 여부\n",
    "    - MST에 포함되지 않은 모든 정점 중에서 dist가 가장 작은 정점 찾아 인덱스 반환\n",
    "- `MSTPrim:`\n",
    "    - 정점 리스트 `vertex` 와 인접행렬 `adj` 입력한다.\n",
    "    - dist와 sselected 배열을 생성하고 초기화한다.\n",
    "    - dist가 최소인 정점 u를 찾고, selected[u]를 True로 갱신\n",
    "    - 선택(확정)된 정점을 출력하고, 현재 dist 배열의 내용을 출력한다.\n",
    "    - 선택되지 않은 모든 정점 v에 대해 u와 간선 (u,v)로 연결되어 있고 가중치가 dist(v)보다 작으면 dist[ㅍ]를 갱신"
   ]
  },
  {
   "cell_type": "markdown",
   "metadata": {},
   "source": [
    "3. 손으로 푼 예제 (이미지삽입):\n",
    "\n"
   ]
  },
  {
   "cell_type": "markdown",
   "metadata": {},
   "source": [
    "4. 코드 개요(함수, 입력변수, 출력변수):\n",
    "\n",
    "- `getMinVertex :` 함수 \n",
    "    -  MST에 포함되지 않은 정점 중에서 거리가 가장 작은 정점의 인덱스를 찾기 위한 알고리즘 \n",
    "        - 입력변수 : \n",
    "            - `dist :` 각 정점으로부터의 거리 값\n",
    "            - `selected :` 각 정점이 선택 여부` \n",
    "        - 출력 변수: \n",
    "            - `최소 거리 값을 가진 정점의 인덱스를 반환` \n",
    "\n",
    "- `MSTPrim:`  함수 \n",
    "    - 그래프에서 최소 신장 트리 알고리즘\n",
    "        - 입력변수 : \n",
    "            - `vertex:` 정점의 리스트`\n",
    "            - `adj:` 인접 행렬로 표현된 그래프의 가중치`\n",
    "\n",
    "\n"
   ]
  },
  {
   "cell_type": "code",
   "execution_count": 9,
   "metadata": {},
   "outputs": [],
   "source": [
    "INF = float('INF')\n",
    "\n",
    "def getMinVertex(dist, selected):\n",
    "    minv = -1\n",
    "    mindist = INF\n",
    "    for v in range(len(dist)):\n",
    "        if not selected[v] and dist[v] < mindist:\n",
    "            mindist = dist[v]\n",
    "            minv = v\n",
    "    return minv\n",
    "\n",
    "def MSTPrim(vertex, adj):\n",
    "    vsize = len(vertex)\n",
    "    dist = [INF] * vsize\n",
    "    selected = [False] * vsize\n",
    "    dist[0] = 0  # 시작 정점 선택\n",
    "\n",
    "    for i in range(vsize):\n",
    "        u = getMinVertex(dist, selected)\n",
    "        selected[u] = True\n",
    "        print(f\"{vertex[u]}:\", dist)\n",
    "\n",
    "        for v in range(vsize):\n",
    "            if adj[u][v] is not None:\n",
    "                if not selected[v] and adj[u][v] < dist[v]:\n",
    "                    dist[v] = adj[u][v]\n"
   ]
  },
  {
   "cell_type": "code",
   "execution_count": 10,
   "metadata": {},
   "outputs": [
    {
     "name": "stdout",
     "output_type": "stream",
     "text": [
      "MST By Prim`s Algorithm\n",
      "A: [0, inf, inf, inf, inf, inf, inf]\n",
      "F: [0, 29, inf, inf, inf, 10, inf]\n",
      "E: [0, 29, inf, inf, 27, 10, inf]\n",
      "D: [0, 29, inf, 22, 27, 10, 25]\n",
      "C: [0, 29, 12, 22, 27, 10, 18]\n",
      "B: [0, 16, 12, 22, 27, 10, 18]\n",
      "G: [0, 16, 12, 22, 27, 10, 15]\n"
     ]
    }
   ],
   "source": [
    "# 테스트 코드\n",
    "vertex = ['A', 'B', 'C', 'D', 'E', 'F', 'G']\n",
    "weight = [  [None, 29, None, None, None, 10, None],\n",
    "            [29, None, 16, None, None,None, 15],\n",
    "            [None, 16, None, 12, None,None,None],\n",
    "            [None,None,12, None, 22, None, 18],\n",
    "            [None,None,None,22,None, 27, 25],\n",
    "            [10, None,None,None, 27,None,None],\n",
    "            [None, 15, None, 18, 25, None,None] ]\n",
    "\n",
    "print(\"MST By Prim`s Algorithm\")\n",
    "MSTPrim(vertex, weight)\n"
   ]
  },
  {
   "attachments": {
    "image.png": {
     "image/png": "[encoded data removed]"
    }
   },
   "cell_type": "markdown",
   "metadata": {},
   "source": [
    "7. 수행결과 (이미지삽입):\n",
    "\n",
    "![image.png](attachment:image.png)"
   ]
  },
  {
   "cell_type": "markdown",
   "metadata": {},
   "source": [
    "8. 복잡도 분석:\n",
    "\n",
    "이 알고리즘은 반복문이 정점의 수 n만큼 반복되므로 `for i in range(visze) :` 반복문  7행`getMinVertex` 함수가 n번 반복, ` for v in range(visze):` 반복문 13행이 n번 반복한다. 따라서 시간 복잡도는 O(n^2) 이다."
   ]
  }
 ],
 "metadata": {
  "kernelspec": {
   "display_name": "base",
   "language": "python",
   "name": "python3"
  },
  "language_info": {
   "codemirror_mode": {
    "name": "ipython",
    "version": 3
   },
   "file_extension": ".py",
   "mimetype": "text/x-python",
   "name": "python",
   "nbconvert_exporter": "python",
   "pygments_lexer": "ipython3",
   "version": "3.11.7"
  }
 },
 "nbformat": 4,
 "nbformat_minor": 2
}
